{
 "cells": [
  {
   "cell_type": "code",
   "execution_count": 3,
   "id": "a65280f4",
   "metadata": {},
   "outputs": [
    {
     "name": "stderr",
     "output_type": "stream",
     "text": [
      "c:\\Users\\jonat\\WaterMLOps\\Rubitherm_Capstone\\.venv\\Lib\\site-packages\\tqdm\\auto.py:21: TqdmWarning: IProgress not found. Please update jupyter and ipywidgets. See https://ipywidgets.readthedocs.io/en/stable/user_install.html\n",
      "  from .autonotebook import tqdm as notebook_tqdm\n"
     ]
    }
   ],
   "source": [
    "# Import\n",
    "from sklearn.feature_extraction.text import TfidfVectorizer\n",
    "from sklearn.decomposition import TruncatedSVD\n",
    "from sklearn.cluster import KMeans\n",
    "from sklearn.metrics import silhouette_score\n",
    "from sentence_transformers import SentenceTransformer\n",
    "import numpy as np"
   ]
  },
  {
   "cell_type": "code",
   "execution_count": 4,
   "id": "cec7cf4a",
   "metadata": {},
   "outputs": [],
   "source": [
    "# Dummy-E-Mails\n",
    "emails = [\n",
    "    \"Please schedule a meeting for project Alpha next week.\",\n",
    "    \"The server is down, urgent fix needed.\",\n",
    "    \"Reminder: Submit your project Alpha report by Friday.\",\n",
    "    \"Customer complaint: Product arrived damaged.\",\n",
    "    \"Can we reschedule the meeting to Monday?\",\n",
    "    \"Issue: Application crash when uploading files.\",\n",
    "    \"Follow up on customer support ticket.\",\n",
    "]"
   ]
  },
  {
   "cell_type": "code",
   "execution_count": 5,
   "id": "968069e3",
   "metadata": {},
   "outputs": [
    {
     "name": "stderr",
     "output_type": "stream",
     "text": [
      "c:\\Users\\jonat\\WaterMLOps\\Rubitherm_Capstone\\.venv\\Lib\\site-packages\\huggingface_hub\\file_download.py:143: UserWarning: `huggingface_hub` cache-system uses symlinks by default to efficiently store duplicated files but your machine does not support them in C:\\Users\\jonat\\.cache\\huggingface\\hub\\models--sentence-transformers--all-MiniLM-L6-v2. Caching files will still work but in a degraded version that might require more space on your disk. This warning can be disabled by setting the `HF_HUB_DISABLE_SYMLINKS_WARNING` environment variable. For more details, see https://huggingface.co/docs/huggingface_hub/how-to-cache#limitations.\n",
      "To support symlinks on Windows, you either need to activate Developer Mode or to run Python as an administrator. In order to activate developer mode, see this article: https://docs.microsoft.com/en-us/windows/apps/get-started/enable-your-device-for-development\n",
      "  warnings.warn(message)\n",
      "Xet Storage is enabled for this repo, but the 'hf_xet' package is not installed. Falling back to regular HTTP download. For better performance, install the package with: `pip install huggingface_hub[hf_xet]` or `pip install hf_xet`\n"
     ]
    }
   ],
   "source": [
    "# 2. Feature Extraction\n",
    "# Option A: TF-IDF\n",
    "tfidf = TfidfVectorizer(stop_words=\"english\")\n",
    "X_tfidf = tfidf.fit_transform(emails)\n",
    "\n",
    "# Option B: Moderne Embeddings\n",
    "model = SentenceTransformer(\"all-MiniLM-L6-v2\")  # small and fast model\n",
    "X_embed = model.encode(emails)"
   ]
  },
  {
   "cell_type": "code",
   "execution_count": 7,
   "id": "b32a1749",
   "metadata": {},
   "outputs": [],
   "source": [
    "# 3. Dimensonality reduction (for TF-IDF)\n",
    "svd = TruncatedSVD(n_components=20)  # 50 dimensions\n",
    "X_reduced = svd.fit_transform(X_tfidf)"
   ]
  },
  {
   "cell_type": "code",
   "execution_count": 8,
   "id": "42ffbbeb",
   "metadata": {},
   "outputs": [
    {
     "name": "stderr",
     "output_type": "stream",
     "text": [
      "c:\\Users\\jonat\\WaterMLOps\\Rubitherm_Capstone\\.venv\\Lib\\site-packages\\sklearn\\cluster\\_kmeans.py:870: FutureWarning: The default value of `n_init` will change from 10 to 'auto' in 1.4. Set the value of `n_init` explicitly to suppress the warning\n",
      "  warnings.warn(\n"
     ]
    }
   ],
   "source": [
    "# 4. Clustering (with k-Means)\n",
    "k = 3  # number of clusters needs to be optimized\n",
    "kmeans = KMeans(n_clusters=k, random_state=42)\n",
    "clusters = kmeans.fit_predict(X_reduced)"
   ]
  },
  {
   "cell_type": "code",
   "execution_count": 9,
   "id": "e92f1a45",
   "metadata": {},
   "outputs": [
    {
     "name": "stdout",
     "output_type": "stream",
     "text": [
      "Cluster Labels: [2 0 2 1 2 1 1]\n",
      "Silhouette Score: 0.05099901710506782\n"
     ]
    }
   ],
   "source": [
    "# 5. Evaluation (Silhouette Score for k-Means)\n",
    "score = silhouette_score(X_reduced, clusters)\n",
    "\n",
    "print(\"Cluster Labels:\", clusters)\n",
    "print(\"Silhouette Score:\", score)\n"
   ]
  }
 ],
 "metadata": {
  "kernelspec": {
   "display_name": ".venv",
   "language": "python",
   "name": "python3"
  },
  "language_info": {
   "codemirror_mode": {
    "name": "ipython",
    "version": 3
   },
   "file_extension": ".py",
   "mimetype": "text/x-python",
   "name": "python",
   "nbconvert_exporter": "python",
   "pygments_lexer": "ipython3",
   "version": "3.11.3"
  }
 },
 "nbformat": 4,
 "nbformat_minor": 5
}
