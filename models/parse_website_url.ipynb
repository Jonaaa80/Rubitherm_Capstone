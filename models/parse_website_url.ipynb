{
 "cells": [
  {
   "cell_type": "code",
   "execution_count": 21,
   "id": "1eb8c31c",
   "metadata": {},
   "outputs": [
    {
     "name": "stdout",
     "output_type": "stream",
     "text": [
      "orderadmin@asml.com → https://www.asml.com\n",
      "OrderAdmin <orderadmin@asml.com> → https://www.asml.com\n",
      "jane.smith@gmail.com → https://openai.com\n"
     ]
    }
   ],
   "source": [
    "import re\n",
    "import tldextract\n",
    "\n",
    "FREE_EMAIL_PROVIDERS = {\n",
    "    \"gmail.com\", \"yahoo.com\", \"outlook.com\", \"hotmail.com\",\n",
    "    \"aol.com\", \"icloud.com\", \"protonmail.com\", \"zoho.com\",\n",
    "    \"gmx.com\", \"yandex.com\", \"mail.com\", \"googlemail.coms\"\n",
    "}\n",
    "\n",
    "def extract_email(raw_email: str) -> str:\n",
    "    \"\"\"\n",
    "    Extracts the email address from formats like:\n",
    "    - orderadmin@asml.com\n",
    "    - orderadmin <orderadmin@asml.com>\n",
    "    \"\"\"\n",
    "    match = re.search(r'[\\w\\.-]+@[\\w\\.-]+', raw_email)\n",
    "    if match:\n",
    "        return match.group(0).lower()\n",
    "    return \"\"\n",
    "\n",
    "def extract_company_website(raw_email: str, email_body: str = \"\") -> str | None:\n",
    "    email = extract_email(raw_email)\n",
    "    if not email:\n",
    "        return None\n",
    "\n",
    "    domain = email.split(\"@\")[-1].strip()\n",
    "\n",
    "    # Case 1: Company email\n",
    "    if domain not in FREE_EMAIL_PROVIDERS:\n",
    "        extracted = tldextract.extract(domain)\n",
    "        return \"https://www.\" + f\"{extracted.domain}.{extracted.suffix}\"\n",
    "\n",
    "    # Case 2: Free provider, search in email body\n",
    "    if email_body:\n",
    "        urls = re.findall(r'https?://[^\\s]+', email_body)\n",
    "        if urls:\n",
    "            return urls[0]\n",
    "        # search for bare domains like \"company.com\"\n",
    "        domains = re.findall(r'\\b(?:[a-z0-9-]+\\.)+[a-z]{2,}\\b', email_body)\n",
    "        for d in domains:\n",
    "            if d.lower() not in FREE_EMAIL_PROVIDERS:\n",
    "                return \"https://\" + d.lower()\n",
    "\n",
    "    return None\n",
    "\n",
    "# ---- Examples ----\n",
    "emails = [\n",
    "    (\"orderadmin@asml.com\", \"\"),\n",
    "    (\"OrderAdmin <orderadmin@asml.com>\", \"\"),\n",
    "    (\"jane.smith@gmail.com\", \"Please visit https://openai.com for details.\"),\n",
    "]\n",
    "\n",
    "for e, body in emails:\n",
    "    print(e, \"→\", extract_company_website(e, body))\n"
   ]
  },
  {
   "cell_type": "code",
   "execution_count": null,
   "id": "4275395f",
   "metadata": {},
   "outputs": [
    {
     "ename": "NameError",
     "evalue": "name 'extract_company_website' is not defined",
     "output_type": "error",
     "traceback": [
      "\u001b[31m---------------------------------------------------------------------------\u001b[39m",
      "\u001b[31mNameError\u001b[39m                                 Traceback (most recent call last)",
      "\u001b[36mCell\u001b[39m\u001b[36m \u001b[39m\u001b[32mIn[1]\u001b[39m\u001b[32m, line 41\u001b[39m\n\u001b[32m     38\u001b[39m         from_mails.append((mail_json[\u001b[33m'\u001b[39m\u001b[33mfrom\u001b[39m\u001b[33m'\u001b[39m], mail_json[\u001b[33m'\u001b[39m\u001b[33mbody\u001b[39m\u001b[33m'\u001b[39m]))\n\u001b[32m     40\u001b[39m \u001b[38;5;28;01mfor\u001b[39;00m (mail, body) \u001b[38;5;129;01min\u001b[39;00m from_mails:\n\u001b[32m---> \u001b[39m\u001b[32m41\u001b[39m     url = \u001b[43mextract_company_website\u001b[49m(mail, body)\n\u001b[32m     42\u001b[39m     \u001b[38;5;28;01mif\u001b[39;00m url:\n\u001b[32m     43\u001b[39m         urls.append((mail, url))\n",
      "\u001b[31mNameError\u001b[39m: name 'extract_company_website' is not defined"
     ]
    }
   ],
   "source": [
    "import os\n",
    "import json\n",
    "import csv\n",
    "from email import policy\n",
    "from email.parser import BytesParser\n",
    "\n",
    "def get_body(msg):\n",
    "    \"\"\"Extracts the body from an email message object.\"\"\"\n",
    "    if msg.is_multipart():\n",
    "        for part in msg.walk():\n",
    "            if part.get_content_type() == \"text/plain\":\n",
    "                return part.get_content()\n",
    "    else:\n",
    "        return msg.get_content()\n",
    "    \n",
    "def eml_to_json(path_to_eml: str) -> dict:\n",
    "    \"\"\"Reads an EML file and converts it to a JSON-like dictionary.\"\"\"\n",
    "    with open(path_to_eml, 'rb') as f:\n",
    "        msg = BytesParser(policy=policy.default).parse(f)\n",
    "\n",
    "    mail_json = {\n",
    "        \"from\": msg[\"from\"],\n",
    "        \"to\": msg[\"to\"],\n",
    "        \"subject\": msg[\"subject\"],\n",
    "        \"date\": msg[\"date\"],\n",
    "        \"body\": get_body(msg),\n",
    "    }\n",
    "    return mail_json\n",
    "\n",
    "if __name__ == \"__main__\":\n",
    "    eml_folder = \"../src/tests/MailsRubitherm\"\n",
    "    from_mails = []\n",
    "    urls = []\n",
    "    for filename in os.listdir(eml_folder):\n",
    "        if filename.endswith(\".eml\"):   \n",
    "            filepath = os.path.join(eml_folder, filename)\n",
    "            mail_json = eml_to_json(filepath)\n",
    "            from_mails.append((mail_json['from'], mail_json['body']))\n",
    "    \n",
    "    for (mail, body) in from_mails:\n",
    "        url = extract_company_website(mail, body)\n",
    "        if url:\n",
    "            urls.append((mail,url))\n",
    "    print(urls)"
   ]
  }
 ],
 "metadata": {
  "kernelspec": {
   "display_name": ".venv",
   "language": "python",
   "name": "python3"
  },
  "language_info": {
   "codemirror_mode": {
    "name": "ipython",
    "version": 3
   },
   "file_extension": ".py",
   "mimetype": "text/x-python",
   "name": "python",
   "nbconvert_exporter": "python",
   "pygments_lexer": "ipython3",
   "version": "3.11.3"
  }
 },
 "nbformat": 4,
 "nbformat_minor": 5
}
