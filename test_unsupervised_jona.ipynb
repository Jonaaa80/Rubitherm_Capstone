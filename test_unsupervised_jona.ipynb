{
 "cells": [
  {
   "cell_type": "code",
   "execution_count": 1,
   "id": "a65280f4",
   "metadata": {},
   "outputs": [
    {
     "ename": "ModuleNotFoundError",
     "evalue": "No module named 'sentence_transformers'",
     "output_type": "error",
     "traceback": [
      "\u001b[31m---------------------------------------------------------------------------\u001b[39m",
      "\u001b[31mModuleNotFoundError\u001b[39m                       Traceback (most recent call last)",
      "\u001b[36mCell\u001b[39m\u001b[36m \u001b[39m\u001b[32mIn[1]\u001b[39m\u001b[32m, line 6\u001b[39m\n\u001b[32m      4\u001b[39m \u001b[38;5;28;01mfrom\u001b[39;00m\u001b[38;5;250m \u001b[39m\u001b[34;01msklearn\u001b[39;00m\u001b[34;01m.\u001b[39;00m\u001b[34;01mcluster\u001b[39;00m\u001b[38;5;250m \u001b[39m\u001b[38;5;28;01mimport\u001b[39;00m KMeans\n\u001b[32m      5\u001b[39m \u001b[38;5;28;01mfrom\u001b[39;00m\u001b[38;5;250m \u001b[39m\u001b[34;01msklearn\u001b[39;00m\u001b[34;01m.\u001b[39;00m\u001b[34;01mmetrics\u001b[39;00m\u001b[38;5;250m \u001b[39m\u001b[38;5;28;01mimport\u001b[39;00m silhouette_score\n\u001b[32m----> \u001b[39m\u001b[32m6\u001b[39m \u001b[38;5;28;01mfrom\u001b[39;00m\u001b[38;5;250m \u001b[39m\u001b[34;01msentence_transformers\u001b[39;00m\u001b[38;5;250m \u001b[39m\u001b[38;5;28;01mimport\u001b[39;00m SentenceTransformer\n\u001b[32m      7\u001b[39m \u001b[38;5;28;01mimport\u001b[39;00m\u001b[38;5;250m \u001b[39m\u001b[34;01mnumpy\u001b[39;00m\u001b[38;5;250m \u001b[39m\u001b[38;5;28;01mas\u001b[39;00m\u001b[38;5;250m \u001b[39m\u001b[34;01mnp\u001b[39;00m\n",
      "\u001b[31mModuleNotFoundError\u001b[39m: No module named 'sentence_transformers'"
     ]
    }
   ],
   "source": [
    "# Import\n",
    "from sklearn.feature_extraction.text import TfidfVectorizer\n",
    "from sklearn.decomposition import TruncatedSVD\n",
    "from sklearn.cluster import KMeans\n",
    "from sklearn.metrics import silhouette_score\n",
    "from sentence_transformers import SentenceTransformer\n",
    "import numpy as np"
   ]
  },
  {
   "cell_type": "code",
   "execution_count": null,
   "id": "cec7cf4a",
   "metadata": {},
   "outputs": [],
   "source": [
    "# Dummy-E-Mails\n",
    "emails = [\n",
    "    \"Please schedule a meeting for project Alpha next week.\",\n",
    "    \"The server is down, urgent fix needed.\",\n",
    "    \"Reminder: Submit your project Alpha report by Friday.\",\n",
    "    \"Customer complaint: Product arrived damaged.\",\n",
    "    \"Can we reschedule the meeting to Monday?\",\n",
    "    \"Issue: Application crash when uploading files.\",\n",
    "    \"Follow up on customer support ticket.\",\n",
    "]"
   ]
  },
  {
   "cell_type": "code",
   "execution_count": null,
   "id": "968069e3",
   "metadata": {},
   "outputs": [],
   "source": [
    "# 2. Feature Extraction\n",
    "# Option A: TF-IDF\n",
    "tfidf = TfidfVectorizer(stop_words=\"english\")\n",
    "X_tfidf = tfidf.fit_transform(emails)\n",
    "\n",
    "# Option B: Moderne Embeddings\n",
    "model = SentenceTransformer(\"all-MiniLM-L6-v2\")  # small and fast model\n",
    "X_embed = model.encode(emails)"
   ]
  },
  {
   "cell_type": "code",
   "execution_count": null,
   "id": "b32a1749",
   "metadata": {},
   "outputs": [],
   "source": [
    "# 3. Dimensonality reduction (for TF-IDF)\n",
    "svd = TruncatedSVD(n_components=50)  # 50 dimensions\n",
    "X_reduced = svd.fit_transform(X_tfidf)"
   ]
  },
  {
   "cell_type": "code",
   "execution_count": null,
   "id": "42ffbbeb",
   "metadata": {},
   "outputs": [],
   "source": [
    "# 4. Clustering (with k-Means)\n",
    "k = 3  # number of clusters needs to be optimized\n",
    "kmeans = KMeans(n_clusters=k, random_state=42)\n",
    "clusters = kmeans.fit_predict(X_reduced)"
   ]
  },
  {
   "cell_type": "code",
   "execution_count": null,
   "id": "e92f1a45",
   "metadata": {},
   "outputs": [],
   "source": [
    "# 5. Evaluation (Silhouette Score for k-Means)\n",
    "score = silhouette_score(X_reduced, clusters)\n",
    "\n",
    "print(\"Cluster Labels:\", clusters)\n",
    "print(\"Silhouette Score:\", score)\n"
   ]
  }
 ],
 "metadata": {
  "kernelspec": {
   "display_name": ".venv",
   "language": "python",
   "name": "python3"
  },
  "language_info": {
   "codemirror_mode": {
    "name": "ipython",
    "version": 3
   },
   "file_extension": ".py",
   "mimetype": "text/x-python",
   "name": "python",
   "nbconvert_exporter": "python",
   "pygments_lexer": "ipython3",
   "version": "3.11.3"
  }
 },
 "nbformat": 4,
 "nbformat_minor": 5
}
